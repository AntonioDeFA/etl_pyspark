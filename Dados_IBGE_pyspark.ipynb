{
  "nbformat": 4,
  "nbformat_minor": 0,
  "metadata": {
    "colab": {
      "provenance": [],
      "authorship_tag": "ABX9TyPycs6MVUowLsCWSNNr/czk",
      "include_colab_link": true
    },
    "kernelspec": {
      "name": "python3",
      "display_name": "Python 3"
    },
    "language_info": {
      "name": "python"
    }
  },
  "cells": [
    {
      "cell_type": "markdown",
      "metadata": {
        "id": "view-in-github",
        "colab_type": "text"
      },
      "source": [
        "<a href=\"https://colab.research.google.com/github/AntonioDeFA/etl_pyspark/blob/develop/Dados_IBGE_pyspark.ipynb\" target=\"_parent\"><img src=\"https://colab.research.google.com/assets/colab-badge.svg\" alt=\"Open In Colab\"/></a>"
      ]
    },
    {
      "cell_type": "code",
      "source": [
        "!pip install pyspark findspark\n",
        "!pip install unidecode"
      ],
      "metadata": {
        "id": "5soYRWVqaouA"
      },
      "execution_count": null,
      "outputs": []
    },
    {
      "cell_type": "code",
      "source": [
        "from pyspark.sql import SparkSession\n",
        "from pyspark.sql.functions import split\n",
        "from pyspark.sql.functions import udf\n",
        "from pyspark.sql.functions import upper\n",
        "from pyspark.sql.types import StringType\n",
        "from unidecode import unidecode"
      ],
      "metadata": {
        "id": "vrt0Rh89amU9"
      },
      "execution_count": 30,
      "outputs": []
    },
    {
      "cell_type": "code",
      "source": [
        "def remove_accents(input_str):\n",
        "    return unidecode(input_str)"
      ],
      "metadata": {
        "id": "ce72YArkqZdG"
      },
      "execution_count": 16,
      "outputs": []
    },
    {
      "cell_type": "code",
      "execution_count": null,
      "metadata": {
        "id": "VT64UFDXQn9o"
      },
      "outputs": [],
      "source": [
        "spark = SparkSession.builder \\\n",
        "    .appName(\"Join and Export to CSV\") \\\n",
        "    .getOrCreate()\n",
        "\n",
        "df_ibge = spark.read.csv('/content/cities-brazil-ibge.csv', header=True, inferSchema=True)\n",
        "df_cases_covid = spark.read.csv('/content/cases-brazil-cities-time_2022.csv', header=True, inferSchema=True)"
      ]
    },
    {
      "cell_type": "code",
      "source": [
        "df_cases_covid_remove_stats = df_cases_covid.withColumn(\"city\", split(df_cases_covid[\"city\"], \"/\")[0])"
      ],
      "metadata": {
        "id": "_eIW4lLhduYm"
      },
      "execution_count": 39,
      "outputs": []
    },
    {
      "cell_type": "code",
      "source": [
        "remove_accents_udf = udf(remove_accents, StringType())\n",
        "df_cases_covid_remove_accent = df_cases_covid_remove_stats.withColumn(\"city\", remove_accents_udf(df_cases_covid_remove_stats[\"city\"]))"
      ],
      "metadata": {
        "id": "3_AlTycEqWxQ"
      },
      "execution_count": 40,
      "outputs": []
    },
    {
      "cell_type": "code",
      "source": [
        "df_cases_covid_upper = df_cases_covid_remove_accent.withColumn(\"city\", upper(df_cases_covid_remove_accent[\"city\"]))"
      ],
      "metadata": {
        "id": "rRHEtDH6u4z5"
      },
      "execution_count": 41,
      "outputs": []
    },
    {
      "cell_type": "code",
      "source": [
        "joined_df_ibge_covid_cases = df_ibge.withColumnRenamed(\"LocalCidade\", \"city\").join(df_cases_covid_upper, 'city', 'inner')\n"
      ],
      "metadata": {
        "id": "ymDcHNVEt5pT"
      },
      "execution_count": 42,
      "outputs": []
    },
    {
      "cell_type": "code",
      "source": [
        "joined_df_ibge_covid_cases_translated = joined_df_ibge_covid_cases.withColumnRenamed(\"epi_week \", \" epi_mes\") \\\n",
        ".withColumnRenamed(\"date\", \"data\") \\\n",
        ".withColumnRenamed(\"state\", \"estado\") \\\n",
        ".withColumnRenamed(\"city\", \"cidade\") \\\n",
        ".withColumnRenamed(\"newDeaths\", \"novas_mortes\") \\\n",
        ".withColumnRenamed(\"deaths\", \"mortes\") \\\n",
        ".withColumnRenamed(\"newCases\", \"novos_casos\") \\\n",
        ".withColumnRenamed(\"totalCases\", \"total_casos\") \\\n",
        ".withColumnRenamed(\"deaths_per_100k_inhabitants\", \"morte_por_100k_habitantes\") \\\n",
        ".withColumnRenamed(\"totalCases_per_100k_inhabitants\", \"total_morte_por_100k_habitantes\") \\\n",
        ".withColumnRenamed(\"deaths_by_totalCases\", \"mortes_por_total_de_casos\")"
      ],
      "metadata": {
        "id": "AnZiwzVytDaT"
      },
      "execution_count": 43,
      "outputs": []
    },
    {
      "cell_type": "code",
      "source": [
        "joined_df_ibge_covid_cases_droped_columns = joined_df_ibge_covid_cases_translated.drop(\"epi_week\",\"RegiaoBrasil\")"
      ],
      "metadata": {
        "id": "HzW5gEgmxHF4"
      },
      "execution_count": 44,
      "outputs": []
    },
    {
      "cell_type": "code",
      "source": [
        "joined_df_ibge_covid_cases_droped_columns.write.csv(\"relatorio-final.csv\", header=True)\n",
        "\n",
        "spark.stop()"
      ],
      "metadata": {
        "id": "_mJke0aydNTy"
      },
      "execution_count": 47,
      "outputs": []
    }
  ]
}