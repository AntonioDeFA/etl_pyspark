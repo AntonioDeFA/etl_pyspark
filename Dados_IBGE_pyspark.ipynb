{
  "nbformat": 4,
  "nbformat_minor": 0,
  "metadata": {
    "colab": {
      "provenance": [],
      "authorship_tag": "ABX9TyOPRdhXP/shTmYSXxT9JfXk",
      "include_colab_link": true
    },
    "kernelspec": {
      "name": "python3",
      "display_name": "Python 3"
    },
    "language_info": {
      "name": "python"
    }
  },
  "cells": [
    {
      "cell_type": "markdown",
      "metadata": {
        "id": "view-in-github",
        "colab_type": "text"
      },
      "source": [
        "<a href=\"https://colab.research.google.com/github/AntonioDeFA/etl_pyspark/blob/develop/Dados_IBGE_pyspark.ipynb\" target=\"_parent\"><img src=\"https://colab.research.google.com/assets/colab-badge.svg\" alt=\"Open In Colab\"/></a>"
      ]
    },
    {
      "cell_type": "code",
      "source": [
        "!pip install pyspark findspark\n",
        "!pip install unidecode"
      ],
      "metadata": {
        "id": "5soYRWVqaouA",
        "colab": {
          "base_uri": "https://localhost:8080/"
        },
        "outputId": "2c494279-c3f6-42ec-f05b-43d452662699"
      },
      "execution_count": 1,
      "outputs": [
        {
          "output_type": "stream",
          "name": "stdout",
          "text": [
            "Collecting pyspark\n",
            "  Downloading pyspark-3.4.1.tar.gz (310.8 MB)\n",
            "\u001b[2K     \u001b[90m━━━━━━━━━━━━━━━━━━━━━━━━━━━━━━━━━━━━━━━\u001b[0m \u001b[32m310.8/310.8 MB\u001b[0m \u001b[31m3.1 MB/s\u001b[0m eta \u001b[36m0:00:00\u001b[0m\n",
            "\u001b[?25h  Preparing metadata (setup.py) ... \u001b[?25l\u001b[?25hdone\n",
            "Collecting findspark\n",
            "  Downloading findspark-2.0.1-py2.py3-none-any.whl (4.4 kB)\n",
            "Requirement already satisfied: py4j==0.10.9.7 in /usr/local/lib/python3.10/dist-packages (from pyspark) (0.10.9.7)\n",
            "Building wheels for collected packages: pyspark\n",
            "  Building wheel for pyspark (setup.py) ... \u001b[?25l\u001b[?25hdone\n",
            "  Created wheel for pyspark: filename=pyspark-3.4.1-py2.py3-none-any.whl size=311285387 sha256=92330ceca0ae08ccd232f577f9df7a0bf03d024a4423854442da781a7c108da7\n",
            "  Stored in directory: /root/.cache/pip/wheels/0d/77/a3/ff2f74cc9ab41f8f594dabf0579c2a7c6de920d584206e0834\n",
            "Successfully built pyspark\n",
            "Installing collected packages: findspark, pyspark\n",
            "Successfully installed findspark-2.0.1 pyspark-3.4.1\n",
            "Collecting unidecode\n",
            "  Downloading Unidecode-1.3.6-py3-none-any.whl (235 kB)\n",
            "\u001b[2K     \u001b[90m━━━━━━━━━━━━━━━━━━━━━━━━━━━━━━━━━━━━━━━\u001b[0m \u001b[32m235.9/235.9 kB\u001b[0m \u001b[31m3.9 MB/s\u001b[0m eta \u001b[36m0:00:00\u001b[0m\n",
            "\u001b[?25hInstalling collected packages: unidecode\n",
            "Successfully installed unidecode-1.3.6\n"
          ]
        }
      ]
    },
    {
      "cell_type": "code",
      "source": [
        "from pyspark.sql import SparkSession\n",
        "from pyspark.sql.functions import split\n",
        "from pyspark.sql.functions import udf\n",
        "from pyspark.sql.functions import upper\n",
        "from pyspark.sql.types import StringType\n",
        "from unidecode import unidecode"
      ],
      "metadata": {
        "id": "vrt0Rh89amU9"
      },
      "execution_count": 2,
      "outputs": []
    },
    {
      "cell_type": "code",
      "source": [
        "def remove_accents(input_str):\n",
        "    return unidecode(input_str)"
      ],
      "metadata": {
        "id": "ce72YArkqZdG"
      },
      "execution_count": 3,
      "outputs": []
    },
    {
      "cell_type": "code",
      "execution_count": 4,
      "metadata": {
        "id": "VT64UFDXQn9o"
      },
      "outputs": [],
      "source": [
        "spark = SparkSession.builder \\\n",
        "    .appName(\"Join and Export to CSV\") \\\n",
        "    .getOrCreate()\n",
        "\n",
        "df_ibge = spark.read.csv('/content/cities-brazil-ibge.csv', header=True, inferSchema=True)\n",
        "df_cases_covid = spark.read.csv('/content/cases-brazil-cities-time_2022.csv', header=True, inferSchema=True)"
      ]
    },
    {
      "cell_type": "code",
      "source": [
        "df_cases_covid_remove_stats = df_cases_covid.withColumn(\"city\", split(df_cases_covid[\"city\"], \"/\")[0])"
      ],
      "metadata": {
        "id": "_eIW4lLhduYm"
      },
      "execution_count": 5,
      "outputs": []
    },
    {
      "cell_type": "code",
      "source": [
        "remove_accents_udf = udf(remove_accents, StringType())\n",
        "df_cases_covid_remove_accent = df_cases_covid_remove_stats.withColumn(\"city\", remove_accents_udf(df_cases_covid_remove_stats[\"city\"]))"
      ],
      "metadata": {
        "id": "3_AlTycEqWxQ"
      },
      "execution_count": 6,
      "outputs": []
    },
    {
      "cell_type": "code",
      "source": [
        "df_cases_covid_upper = df_cases_covid_remove_accent.withColumn(\"city\", upper(df_cases_covid_remove_accent[\"city\"]))"
      ],
      "metadata": {
        "id": "rRHEtDH6u4z5"
      },
      "execution_count": 7,
      "outputs": []
    },
    {
      "cell_type": "code",
      "source": [
        "joined_df_ibge_covid_cases = df_ibge.withColumnRenamed(\"LocalCidade\", \"city\").join(df_cases_covid_upper, 'city', 'inner')\n"
      ],
      "metadata": {
        "id": "ymDcHNVEt5pT"
      },
      "execution_count": 8,
      "outputs": []
    },
    {
      "cell_type": "code",
      "source": [
        "joined_df_ibge_covid_cases_translated = joined_df_ibge_covid_cases.withColumnRenamed(\"epi_week \", \"epi_mes\") \\\n",
        ".withColumnRenamed(\"date\", \"data\") \\\n",
        ".withColumnRenamed(\"state\", \"estado\") \\\n",
        ".withColumnRenamed(\"city\", \"cidade\") \\\n",
        ".withColumnRenamed(\"newDeaths\", \"novas_mortes\") \\\n",
        ".withColumnRenamed(\"deaths\", \"mortes\") \\\n",
        ".withColumnRenamed(\"newCases\", \"novos_casos\") \\\n",
        ".withColumnRenamed(\"totalCases\", \"total_casos\") \\\n",
        ".withColumnRenamed(\"deaths_per_100k_inhabitants\", \"morte_por_100k_habitantes\") \\\n",
        ".withColumnRenamed(\"totalCases_per_100k_inhabitants\", \"total_morte_por_100k_habitantes\") \\\n",
        ".withColumnRenamed(\"deaths_by_totalCases\", \"mortes_por_total_de_casos\")"
      ],
      "metadata": {
        "id": "AnZiwzVytDaT"
      },
      "execution_count": null,
      "outputs": []
    },
    {
      "cell_type": "code",
      "source": [
        "joined_df_ibge_covid_cases_translated = joined_df_ibge_covid_cases\n",
        "old_names = [\"epi_week\",\n",
        "            \"date\",\n",
        "            \"state\",\n",
        "            \"city\",\n",
        "            \"newDeaths\",\n",
        "            \"deaths\",\n",
        "            \"newCases\",\n",
        "            \"totalCases\",\n",
        "            \"deaths_per_100k_inhabitants\",\n",
        "            \"totalCases_per_100k_inhabitants\",\n",
        "            \"deaths_by_totalCases\"]\n",
        "new_names = [\"epi_mes\",\n",
        "             \"data\",\n",
        "             \"estado\",\n",
        "             \"cidade\",\n",
        "             \"novas_mortes\",\n",
        "             \"mortes\",\n",
        "             \"novos_casos\",\n",
        "             \"total_casos\",\n",
        "             \"morte_por_100k_habitantes\",\n",
        "             \"total_morte_por_100k_habitantes\",\n",
        "             \"mortes_por_total_de_casos\"]\n",
        "for i in range(len(old_names)):\n",
        "  joined_df_ibge_covid_cases_translated = \\\n",
        "    joined_df_ibge_covid_cases_translated. \\\n",
        "      withColumnRenamed(old_names[i],\n",
        "                        new_names[i])"
      ],
      "metadata": {
        "id": "qPdmEDZdBjqk"
      },
      "execution_count": 19,
      "outputs": []
    },
    {
      "cell_type": "code",
      "source": [
        "joined_df_ibge_covid_cases_translated.show()"
      ],
      "metadata": {
        "colab": {
          "base_uri": "https://localhost:8080/"
        },
        "id": "nxymR1X1tDOm",
        "outputId": "0222fd2b-b91c-4978-bf15-15ee61617f49"
      },
      "execution_count": 20,
      "outputs": [
        {
          "output_type": "stream",
          "name": "stdout",
          "text": [
            "+-------------------+--------+-------+-------------------+------------+--------+---------+-------------------+----------------+-------------+-----+-----------------------+-----------------------+--------+-------+----------+------+-------+------------+------+-----------+-----------+-------------------------+-------------------------------+-------------------------+\n",
            "|             cidade|IBGECode|LocalUF|        LocalEstado|RegiaoBrasil|Latitude|Longitude|          Gentilico|PopEstimada_2018|PopCenso 2010| IDHM|ReceitasRealizadas_2014|DespesasEmpenhadas_2014|Pib_2014|epi_mes|      data|estado| ibgeID|novas_mortes|mortes|novos_casos|total_casos|morte_por_100k_habitantes|total_morte_por_100k_habitantes|mortes_por_total_de_casos|\n",
            "+-------------------+--------+-------+-------------------+------------+--------+---------+-------------------+----------------+-------------+-----+-----------------------+-----------------------+--------+-------+----------+------+-------+------------+------+-----------+-----------+-------------------------+-------------------------------+-------------------------+\n",
            "|    ABADIA DE GOIAS| 5200050|     GO|              Goi�s|          CO| -167573|  -494412|         abadiense |            8583|         6876|0,708|                  26514|                  23114|21835,59|    152|2022-01-01|    GO|5200050|           0|    44|          1|       2003|                  480.454|                      21871.588|                    0.022|\n",
            "|ABADIA DOS DOURADOS| 3100104|     MG|       Minas Gerais|          SE| -184831|  -473916|         abadiense |            6972|         6704|0,689|                  19448|                  16744|23522,14|    152|2022-01-01|    MG|3100104|           0|    20|          0|        601|                  284.819|                       8558.815|                    0.033|\n",
            "|          ABADIANIA| 5200100|     GO|              Goi�s|          CO|  -16197|  -487057|         abadiense |           19614|        15757|0,689|                  33770|                  31393|15999,73|    152|2022-01-01|    GO|5200100|           1|    47|          1|        603|                  225.171|                         2888.9|                    0.078|\n",
            "|         ABAETETUBA| 1500107|     PA|               Par�|           N| -172183|  -488788|     abaetetubense |          156292|       141100|0,628|                 218841|                 210587| 7960,05|    152|2022-01-01|    PA|1500107|           0|   226|          0|       9915|                  140.864|                       6179.919|                    0.023|\n",
            "|             ABAETE| 3100203|     MG|       Minas Gerais|          SE| -191551|  -454444|         abaetense |           23223|        22690|0,698|                  41526|                  38562|14495,42|    152|2022-01-01|    MG|3100203|           0|    44|          0|       1679|                  189.142|                        7217.47|                    0.026|\n",
            "|            ABAIARA| 2300101|     CE|              Cear�|          NE| -734588|  -390416|        abaiarense |           11663|        10496|0,628|                  26919|                  22713| 5652,18|    152|2022-01-01|    CE|2300101|           0|    17|          0|        641|                  142.081|                       5357.292|                    0.027|\n",
            "|              ABARE| 2900207|     BA|              Bahia|          NE| -872073|  -391162|         abareense |           19814|        17064|0,575|                  35979|                  34294| 6139,26|    152|2022-01-01|    BA|2900207|           0|    11|          0|       1238|                   53.414|                        6011.46|                    0.009|\n",
            "|             ABATIA| 4100103|     PR|             Paran�|         SUL| -233049|  -503133|         abatiense |            7507|         7764|0,687|                  16520|                  14028|18840,36|    152|2022-01-01|    PR|4100103|           0|    21|          0|       1186|                  285.326|                       16114.13|                    0.018|\n",
            "|             ABAIRA| 2900108|     BA|              Bahia|          NE| -132488|  -416619|         abairense |            8767|         8316|0,603|                  18587|                  18464| 5982,15|    152|2022-01-01|    BA|2900108|           0|    13|          0|        301|                  149.752|                       3467.342|                    0.043|\n",
            "|      ABDON BATISTA| 4200051|     SC|     Santa Catarina|         SUL| -276126|  -510233|         abdonense |            2577|         2653|0,694|                      0|                      0|23941,29|    152|2022-01-01|    SC|4200051|           0|     4|          0|        409|                  157.853|                      16140.489|                     0.01|\n",
            "|    ABEL FIGUEIREDO| 1500131|     PA|               Par�|           N| -495333|  -483933|abel-figueiredense |            7382|         6780|0,622|                  19532|                  18885| 9397,07|    152|2022-01-01|    PA|1500131|           0|    11|          0|       1109|                  145.966|                       14716.03|                     0.01|\n",
            "|       ABELARDO LUZ| 4200101|     SC|     Santa Catarina|         SUL| -265716|  -523229| abelardo-lusense- |           17847|        17100|0,696|                  59826|                  54694| 32069,3|    152|2022-01-01|    SC|4200101|           0|    61|          0|       1970|                  338.607|                      10935.332|                    0.031|\n",
            "|         ABRE CAMPO| 3100302|     MG|       Minas Gerais|          SE| -202996|  -424743|     abre-campense |           13465|        13311|0,654|                      0|                      0| 13210,4|    152|2022-01-01|    MG|3100302|           0|    17|          0|       1292|                  126.545|                       9617.389|                    0.013|\n",
            "|       ABREU E LIMA| 2600054|     PE|         Pernambuco|          NE| -790072|  -348984|     abreu-limense |           99622|        94429|0,679|                 141387|                 126132|13438,04|    152|2022-01-01|    PE|2600054|           0|   252|          0|       3713|                  250.253|                       3687.263|                    0.068|\n",
            "|        ABREULANDIA| 1700251|     TO|          Tocantins|           N| -962101|  -491518|     abreulandense |            2564|         2391|0,665|                  10319|                   8981|14687,94|    152|2022-01-01|    TO|1700251|           0|     8|          0|        332|                  306.631|                      12725.182|                    0.024|\n",
            "|            ACAIACA| 3100401|     MG|       Minas Gerais|          SE|  -20359|  -431439|       acaiaquense |            3994|         3920| 0,63|                      0|                      0|  7892,4|    152|2022-01-01|    MG|3100401|           0|    12|          0|        243|                  300.375|                       6082.603|                    0.049|\n",
            "|          ACAJUTIBA| 2900306|     BA|              Bahia|          NE| -116575|  -380197|      acajutibense |           15129|        14653|0,582|                  26178|                  23660| 7440,47|    152|2022-01-01|    BA|2900306|           0|    21|          0|        575|                  138.031|                       3779.414|                    0.037|\n",
            "|            ACARAPE| 2300150|     CE|              Cear�|          NE| -422083|  -387055|        acarapense |           16639|        15338|0,606|                  29330|                  25422| 7093,62|    152|2022-01-01|    CE|2300150|           0|    31|          1|       2832|                  204.756|                      18705.416|                    0.011|\n",
            "|             ACARAU| 2300200|     CE|              Cear�|          NE| -288769|  -401183|        acarauense |           62557|        57551|0,601|                 111745|                 111506| 9097,18|    152|2022-01-01|    CE|2300200|           0|   115|          1|       5375|                  180.943|                       8457.109|                    0.021|\n",
            "|              ACARI| 2400109|     RN|Rio Grande do Norte|          NE|  -64282|  -366347|         acariense |           11152|        11035|0,679|                  21020|                  19146| 9764,51|    152|2022-01-01|    RN|2400109|           0|    21|          0|       1148|                  189.087|                      10336.755|                    0.018|\n",
            "+-------------------+--------+-------+-------------------+------------+--------+---------+-------------------+----------------+-------------+-----+-----------------------+-----------------------+--------+-------+----------+------+-------+------------+------+-----------+-----------+-------------------------+-------------------------------+-------------------------+\n",
            "only showing top 20 rows\n",
            "\n"
          ]
        }
      ]
    },
    {
      "cell_type": "code",
      "source": [
        "joined_df_ibge_covid_cases_droped_columns = joined_df_ibge_covid_cases_translated.drop(\"epi_week\",\"RegiaoBrasil\")"
      ],
      "metadata": {
        "id": "HzW5gEgmxHF4"
      },
      "execution_count": null,
      "outputs": []
    },
    {
      "cell_type": "code",
      "source": [
        "joined_df_ibge_covid_cases_droped_columns.write.csv(\"relatorio-final.csv\", header=True)\n",
        "\n",
        "spark.stop()"
      ],
      "metadata": {
        "id": "_mJke0aydNTy"
      },
      "execution_count": null,
      "outputs": []
    }
  ]
}