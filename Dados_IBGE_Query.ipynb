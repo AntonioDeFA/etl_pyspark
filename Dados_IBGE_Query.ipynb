{
  "nbformat": 4,
  "nbformat_minor": 0,
  "metadata": {
    "colab": {
      "provenance": [],
      "authorship_tag": "ABX9TyP76StpUu3EC2hGb3sk+Vef",
      "include_colab_link": true
    },
    "kernelspec": {
      "name": "python3",
      "display_name": "Python 3"
    },
    "language_info": {
      "name": "python"
    }
  },
  "cells": [
    {
      "cell_type": "markdown",
      "metadata": {
        "id": "view-in-github",
        "colab_type": "text"
      },
      "source": [
        "<a href=\"https://colab.research.google.com/github/AntonioDeFA/etl_pyspark/blob/develop/Dados_IBGE_Query.ipynb\" target=\"_parent\"><img src=\"https://colab.research.google.com/assets/colab-badge.svg\" alt=\"Open In Colab\"/></a>"
      ]
    },
    {
      "cell_type": "code",
      "execution_count": null,
      "metadata": {
        "id": "cdYAV8dbYEcI"
      },
      "outputs": [],
      "source": [
        "!pip install pyspark findspark"
      ]
    },
    {
      "cell_type": "code",
      "source": [
        "import findspark\n",
        "import unicodedata\n",
        "import seaborn as sns\n",
        "import matplotlib.pyplot as plt\n",
        "from pyspark.sql.functions import *\n",
        "from pyspark.sql import SparkSession, Row\n",
        "from pyspark.sql.window import Window\n",
        "from pyspark.sql.functions import col"
      ],
      "metadata": {
        "id": "enUC0hFuYaiD"
      },
      "execution_count": 2,
      "outputs": []
    },
    {
      "cell_type": "code",
      "source": [
        "def remove_accents(input_str):\n",
        "    nfkd_form = unicodedata.normalize('NFKD', input_str)\n",
        "    only_ascii = nfkd_form.encode('ASCII', 'ignore')\n",
        "    return only_ascii.decode('ASCII')"
      ],
      "metadata": {
        "id": "X8CdYME_sa4s"
      },
      "execution_count": 3,
      "outputs": []
    },
    {
      "cell_type": "code",
      "source": [
        "findspark.init()\n",
        "\n",
        "spark = SparkSession.builder \\\n",
        "    .appName(\"Dados IBGE\") \\\n",
        "    .getOrCreate()\n",
        "\n",
        "input_path_ibge = \"/content/cities-brazil-ibge.csv\"\n",
        "data_ibge = spark.read.csv(input_path_ibge,\n",
        "                           header=True,\n",
        "                           inferSchema=True,\n",
        "                           sep=\",\",\n",
        "                           encoding=\"UTF-8\")\n",
        "\n",
        "input_path_covid = \"/content/cases-brazil-cities-time_2022.csv\"\n",
        "data_covid = spark.read.csv(input_path_covid,\n",
        "                            header=True,\n",
        "                            inferSchema=True,\n",
        "                            sep=\",\",\n",
        "                            encoding=\"UTF-8\")"
      ],
      "metadata": {
        "id": "mk-CEsXUaMff"
      },
      "execution_count": 4,
      "outputs": []
    },
    {
      "cell_type": "code",
      "source": [
        "windowSpec = Window.partitionBy(\"city\").orderBy(col(\"date\").desc())\n",
        "\n",
        "last_cases_covid_data = data_covid.withColumn(\"row_num\",\n",
        "                                       row_number().\n",
        "                                       over(windowSpec)).\\\n",
        "                                       filter(col(\"row_num\") == 1).\\\n",
        "                                       drop(\"row_num\")\n"
      ],
      "metadata": {
        "id": "g_837oFc5gcR"
      },
      "execution_count": 21,
      "outputs": []
    },
    {
      "cell_type": "code",
      "source": [
        "\n",
        "filtered_data = last_cases_covid_data.filter(\n",
        "    (col(\"state\") == \"PB\") &\n",
        "    upper(col(\"city\")).startswith(\"CO\") &\n",
        "     (((col(\"deaths\")/col(\"totalCases\"))*100)>0)\n",
        ").select(\"*\")"
      ],
      "metadata": {
        "id": "bMFO7EZpqOwu"
      },
      "execution_count": 26,
      "outputs": []
    }
  ]
}