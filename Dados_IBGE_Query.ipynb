{
  "nbformat": 4,
  "nbformat_minor": 0,
  "metadata": {
    "colab": {
      "provenance": [],
      "authorship_tag": "ABX9TyNAyryYxMdw1ay6pw6hdoHD",
      "include_colab_link": true
    },
    "kernelspec": {
      "name": "python3",
      "display_name": "Python 3"
    },
    "language_info": {
      "name": "python"
    }
  },
  "cells": [
    {
      "cell_type": "markdown",
      "metadata": {
        "id": "view-in-github",
        "colab_type": "text"
      },
      "source": [
        "<a href=\"https://colab.research.google.com/github/AntonioDeFA/etl_pyspark/blob/develop/Dados_IBGE_Query.ipynb\" target=\"_parent\"><img src=\"https://colab.research.google.com/assets/colab-badge.svg\" alt=\"Open In Colab\"/></a>"
      ]
    },
    {
      "cell_type": "code",
      "execution_count": 25,
      "metadata": {
        "id": "cdYAV8dbYEcI",
        "colab": {
          "base_uri": "https://localhost:8080/"
        },
        "outputId": "12c5b109-ac15-4139-a391-4105f7a95c5c"
      },
      "outputs": [
        {
          "output_type": "stream",
          "name": "stdout",
          "text": [
            "Requirement already satisfied: pyspark in /usr/local/lib/python3.10/dist-packages (3.5.0)\n",
            "Requirement already satisfied: findspark in /usr/local/lib/python3.10/dist-packages (2.0.1)\n",
            "Collecting unidecode\n",
            "  Downloading Unidecode-1.3.7-py3-none-any.whl (235 kB)\n",
            "\u001b[2K     \u001b[90m━━━━━━━━━━━━━━━━━━━━━━━━━━━━━━━━━━━━━━━\u001b[0m \u001b[32m235.5/235.5 kB\u001b[0m \u001b[31m4.1 MB/s\u001b[0m eta \u001b[36m0:00:00\u001b[0m\n",
            "\u001b[?25hRequirement already satisfied: py4j==0.10.9.7 in /usr/local/lib/python3.10/dist-packages (from pyspark) (0.10.9.7)\n",
            "Installing collected packages: unidecode\n",
            "Successfully installed unidecode-1.3.7\n"
          ]
        }
      ],
      "source": [
        "!pip install pyspark findspark unidecode"
      ]
    },
    {
      "cell_type": "code",
      "source": [
        "import unicodedata\n",
        "import seaborn as sns\n",
        "import matplotlib.pyplot as plt\n",
        "from unidecode import unidecode\n",
        "from pyspark.sql.functions import *\n",
        "from pyspark.sql.window import Window\n",
        "from pyspark.sql.functions import col\n",
        "from pyspark.sql import SparkSession, Row"
      ],
      "metadata": {
        "id": "enUC0hFuYaiD"
      },
      "execution_count": 27,
      "outputs": []
    },
    {
      "cell_type": "code",
      "source": [
        "remove_accents_udf = udf(lambda name: unidecode(name) if name else name, StringType())"
      ],
      "metadata": {
        "id": "X8CdYME_sa4s"
      },
      "execution_count": 28,
      "outputs": []
    },
    {
      "cell_type": "code",
      "source": [
        "spark = SparkSession.builder \\\n",
        "    .appName(\"Dados IBGE\") \\\n",
        "    .getOrCreate()\n",
        "\n",
        "input_path_ibge = \"/content/cities-brazil-ibge.csv\"\n",
        "data_ibge = spark.read.csv(input_path_ibge,\n",
        "                           header=True,\n",
        "                           inferSchema=True,\n",
        "                           sep=\",\",\n",
        "                           encoding=\"UTF-8\")\n",
        "\n",
        "input_path_covid = \"/content/cases-brazil-cities-time_2022.csv\"\n",
        "data_covid = spark.read.csv(input_path_covid,\n",
        "                            header=True,\n",
        "                            inferSchema=True,\n",
        "                            sep=\",\",\n",
        "                            encoding=\"UTF-8\")"
      ],
      "metadata": {
        "id": "mk-CEsXUaMff"
      },
      "execution_count": 16,
      "outputs": []
    },
    {
      "cell_type": "code",
      "source": [
        "windowSpec = Window.partitionBy(\"city\").orderBy(col(\"date\").desc())\n",
        "\n",
        "last_cases_covid_data = data_covid.withColumn(\"row_num\",\n",
        "                                       row_number().\n",
        "                                       over(windowSpec)).\\\n",
        "                                       filter(col(\"row_num\") == 1).\\\n",
        "                                       drop(\"row_num\")\n"
      ],
      "metadata": {
        "id": "g_837oFc5gcR"
      },
      "execution_count": 17,
      "outputs": []
    },
    {
      "cell_type": "code",
      "source": [
        "remove_accents_data = last_cases_covid_data.withColumn(\"city\", remove_accents_udf(\"city\"))"
      ],
      "metadata": {
        "id": "ygxCKpjYL2_w"
      },
      "execution_count": 29,
      "outputs": []
    },
    {
      "cell_type": "code",
      "source": [
        "remove_accents_data.show()"
      ],
      "metadata": {
        "id": "3NrdY7NLmH7g"
      },
      "execution_count": null,
      "outputs": []
    },
    {
      "cell_type": "code",
      "source": [
        "filter_city_name_data = remove_accents_data.filter(\n",
        "    upper(col(\"city\")).startswith(\"CO\")\n",
        ").select(\"*\")"
      ],
      "metadata": {
        "id": "zJRCUl_JJViS"
      },
      "execution_count": 34,
      "outputs": []
    },
    {
      "cell_type": "code",
      "source": [
        "filter_city_name_data.show()"
      ],
      "metadata": {
        "colab": {
          "base_uri": "https://localhost:8080/"
        },
        "id": "W4y13gkxjj51",
        "outputId": "8cdcd137-503d-4a12-bf7a-99e643480e23"
      },
      "execution_count": 35,
      "outputs": [
        {
          "output_type": "stream",
          "name": "stdout",
          "text": [
            "+--------+----------+-----+--------------------+-------+---------+------+--------+----------+---------------------------+-------------------------------+--------------------+\n",
            "|epi_week|      date|state|                city| ibgeID|newDeaths|deaths|newCases|totalCases|deaths_per_100k_inhabitants|totalCases_per_100k_inhabitants|deaths_by_totalCases|\n",
            "+--------+----------+-----+--------------------+-------+---------+------+--------+----------+---------------------------+-------------------------------+--------------------+\n",
            "|     252|2022-12-31|   BA|          Coaraci/BA|2908002|        0|    59|       0|      2798|                    365.823|                       17348.71|               0.021|\n",
            "|     252|2022-12-31|   AM|            Coari/AM|1301209|        0|   249|       0|     11799|                    287.154|                      13606.956|               0.021|\n",
            "|     252|2022-12-31|   PI|   Cocal de Telha/PI|2202711|        0|    14|       0|       631|                    285.249|                      12856.561|               0.022|\n",
            "|     252|2022-12-31|   SC|     Cocal do Sul/SC|4204251|        0|    63|       0|      5765|                     371.55|                      33999.764|               0.011|\n",
            "|     252|2022-12-31|   PI|  Cocal dos Alves/PI|2202729|        0|     8|       0|       429|                     129.45|                       6941.748|               0.019|\n",
            "|     252|2022-12-31|   PI|            Cocal/PI|2202703|        0|    51|       0|      1999|                    182.789|                       7164.618|               0.026|\n",
            "|     252|2022-12-31|   MT|        Cocalinho/MT|5103106|        0|    17|       0|      1925|                    297.411|                      33677.397|               0.009|\n",
            "|     252|2022-12-31|   GO|Cocalzinho de Goi...|5205513|        0|    47|       0|      6173|                    226.277|                       29719.32|               0.008|\n",
            "|     252|2022-12-31|   BA|            Cocos/BA|2908101|        0|    25|       0|      2130|                    132.732|                      11308.734|               0.012|\n",
            "|     252|2022-12-31|   AM|          Codajas/AM|1301308|        0|    27|       0|      3126|                     90.937|                      10528.443|               0.009|\n",
            "|     252|2022-12-31|   MA|             Codo/MA|2103307|        0|   233|       0|      4833|                    188.866|                       3917.548|               0.048|\n",
            "|     252|2022-12-31|   MA|      Coelho Neto/MA|2103406|        0|    52|       0|      2287|                    104.409|                       4592.001|               0.023|\n",
            "|     252|2022-12-31|   MG|          Coimbra/MG|3116704|        0|    13|       0|       982|                    170.358|                      12868.562|               0.013|\n",
            "|     252|2022-12-31|   AL|    Coite do Noia/AL|2702009|        0|    22|       0|       766|                    207.665|                       7230.508|               0.029|\n",
            "|     252|2022-12-31|   PI|         Coivaras/PI|2202737|        0|     6|       0|       344|                    148.368|                       8506.429|               0.017|\n",
            "|     252|2022-12-31|   PA|          Colares/PA|1502608|        0|    23|       0|      1055|                    188.912|                       8665.298|               0.022|\n",
            "|     252|2022-12-31|   ES|         Colatina/ES|3201506|        0|   414|       0|     52169|                    333.111|                      41975.974|               0.008|\n",
            "|     252|2022-12-31|   SP|           Colina/SP|3512001|        0|    73|       0|      2605|                    392.452|                      14004.623|               0.028|\n",
            "|     252|2022-12-31|   GO|   Colinas do Sul/GO|5205521|        0|     6|       0|       913|                    179.695|                      27343.516|               0.007|\n",
            "|     252|2022-12-31|   TO|Colinas do Tocant...|1705508|        0|   165|       0|     10487|                    454.909|                      28912.906|               0.016|\n",
            "+--------+----------+-----+--------------------+-------+---------+------+--------+----------+---------------------------+-------------------------------+--------------------+\n",
            "only showing top 20 rows\n",
            "\n"
          ]
        }
      ]
    },
    {
      "cell_type": "code",
      "source": [
        "filter_state_name_data = filter_city_name_data.filter(\n",
        "    (col(\"state\") == \"PB\")\n",
        ").select(\"*\")"
      ],
      "metadata": {
        "id": "dVJ6rwWYKnas"
      },
      "execution_count": null,
      "outputs": []
    },
    {
      "cell_type": "code",
      "source": [
        "filter_state_name_data.show()"
      ],
      "metadata": {
        "id": "B-jtxPOTlKM6"
      },
      "execution_count": null,
      "outputs": []
    },
    {
      "cell_type": "code",
      "source": [
        "\n",
        "filtered_percente_data = filter_city_name_data.filter(\n",
        "    (((col(\"deaths\")/col(\"totalCases\"))*100)>0)\n",
        ").select(\"*\")"
      ],
      "metadata": {
        "id": "bMFO7EZpqOwu"
      },
      "execution_count": 23,
      "outputs": []
    },
    {
      "cell_type": "code",
      "source": [
        "filtered_data.show()"
      ],
      "metadata": {
        "colab": {
          "base_uri": "https://localhost:8080/"
        },
        "id": "4YGNEu7FIbjP",
        "outputId": "ddeb1bcb-09e3-483b-c24b-0398a62486bb"
      },
      "execution_count": 36,
      "outputs": [
        {
          "output_type": "execute_result",
          "data": {
            "text/plain": [
              "<bound method DataFrame.show of DataFrame[epi_week: int, date: date, state: string, city: string, ibgeID: int, newDeaths: int, deaths: int, newCases: int, totalCases: int, deaths_per_100k_inhabitants: double, totalCases_per_100k_inhabitants: double, deaths_by_totalCases: double]>"
            ]
          },
          "metadata": {},
          "execution_count": 36
        }
      ]
    },
    {
      "cell_type": "code",
      "source": [],
      "metadata": {
        "id": "iZuI9bGhmBFK"
      },
      "execution_count": null,
      "outputs": []
    }
  ]
}