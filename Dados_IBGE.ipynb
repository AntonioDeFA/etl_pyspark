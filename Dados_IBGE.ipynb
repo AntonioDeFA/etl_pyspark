{
  "nbformat": 4,
  "nbformat_minor": 0,
  "metadata": {
    "colab": {
      "provenance": [],
      "include_colab_link": true
    },
    "kernelspec": {
      "name": "python3",
      "display_name": "Python 3"
    },
    "language_info": {
      "name": "python"
    }
  },
  "cells": [
    {
      "cell_type": "markdown",
      "metadata": {
        "id": "view-in-github",
        "colab_type": "text"
      },
      "source": [
        "<a href=\"https://colab.research.google.com/github/AntonioDeFA/etl_pyspark/blob/develop/Dados_IBGE.ipynb\" target=\"_parent\"><img src=\"https://colab.research.google.com/assets/colab-badge.svg\" alt=\"Open In Colab\"/></a>"
      ]
    },
    {
      "cell_type": "code",
      "execution_count": null,
      "metadata": {
        "id": "khsKSvE4d4V1"
      },
      "outputs": [],
      "source": [
        "!pip install pyspark findspark"
      ]
    },
    {
      "cell_type": "code",
      "source": [
        "import findspark\n",
        "import unicodedata\n",
        "import seaborn as sns\n",
        "import matplotlib.pyplot as plt\n",
        "from pyspark.sql.functions import *\n",
        "from pyspark.sql import SparkSession, Row\n",
        "from pyspark.sql.window import Window"
      ],
      "metadata": {
        "id": "zDTNy__L84o-"
      },
      "execution_count": null,
      "outputs": []
    },
    {
      "cell_type": "code",
      "source": [
        "def remove_accents(input_str):\n",
        "    nfkd_form = unicodedata.normalize('NFKD', input_str)\n",
        "    only_ascii = nfkd_form.encode('ASCII', 'ignore')\n",
        "    return only_ascii.decode('ASCII')"
      ],
      "metadata": {
        "id": "tmG7K3DF89Xq"
      },
      "execution_count": 28,
      "outputs": []
    },
    {
      "cell_type": "code",
      "source": [
        "findspark.init()\n",
        "\n",
        "\n",
        "udf_remove_accents = udf(remove_accents,\n",
        "                         StringType())\n",
        "\n",
        "spark = SparkSession.builder \\\n",
        "    .appName(\"Dados IBGE\") \\\n",
        "    .getOrCreate()\n",
        "\n",
        "spark.udf.register(\"sql_remove_accents\",\n",
        "                   remove_accents,\n",
        "                   StringType())\n",
        "\n",
        "input_path_ibge = \"/content/cities-brazil-ibge.csv\"\n",
        "data_ibge = spark.read.csv(input_path_ibge,\n",
        "                           header=True,\n",
        "                           inferSchema=True,\n",
        "                           sep=\",\",\n",
        "                           encoding=\"UTF-8\")\n",
        "\n",
        "input_path_covid = \"/content/cases-brazil-cities-time_2022.csv\"\n",
        "data_covid = spark.read.csv(input_path_covid,\n",
        "                            header=True,\n",
        "                            inferSchema=True,\n",
        "                            sep=\",\",\n",
        "                            encoding=\"UTF-8\")"
      ],
      "metadata": {
        "id": "UgUX4ilN9FFF"
      },
      "execution_count": 56,
      "outputs": []
    },
    {
      "cell_type": "code",
      "source": [
        "data_ibge.createOrReplaceTempView(\"tb_ibge\")\n",
        "data_covid.createOrReplaceTempView(\"tb_covid\")\n",
        "\n",
        "spark.sql(\"SELECT epi_week AS epi_mes, \\\n",
        "                  date AS data,  \\\n",
        "                  state AS estado, \\\n",
        "                  upper(sql_remove_accents(city)) AS cidade, \\\n",
        "                  ibgeID,  \\\n",
        "                  newDeaths AS novas_mortes,  \\\n",
        "                  deaths AS mortes,  \\\n",
        "                  newCases AS novos_casos, \\\n",
        "                  totalCases AS total_casos, \\\n",
        "                  deaths_per_100k_inhabitants AS morte_por_100k_habitantes, \\\n",
        "                  totalCases_per_100k_inhabitants AS total_morte_por_100k_habitantes, \\\n",
        "                  deaths_by_totalCases AS mortes_por_total_de_casos \\\n",
        "                  FROM tb_covid\")\\\n",
        "                  .createOrReplaceTempView(\"tb_covid_traduzido\")\n",
        "\n",
        "spark.sql(\"SELECT epi_mes, \\\n",
        "                  data, \\\n",
        "                  estado, \\\n",
        "                  upper(sql_remove_accents(cidade)) AS cidade, \\\n",
        "                  ibgeID, \\\n",
        "                  novas_mortes, \\\n",
        "                  mortes, \\\n",
        "                  novos_casos, \\\n",
        "                  total_casos, \\\n",
        "                  morte_por_100k_habitantes, \\\n",
        "                  total_morte_por_100k_habitantes, \\\n",
        "                  mortes_por_total_de_casos \\\n",
        "                  FROM tb_covid_traduzido\")\\\n",
        "                  .createOrReplaceTempView(\"tb_covid_sem_acento\")\n",
        "\n",
        "spark.sql(\"SELECT epi_mes, \\\n",
        "                  data, \\\n",
        "                  estado, \\\n",
        "                  SUBSTR(cidade, 1, INSTR(cidade, '/') - 1) AS cidade, \\\n",
        "                  ibgeID, \\\n",
        "                  novas_mortes, \\\n",
        "                  mortes, \\\n",
        "                  novos_casos, \\\n",
        "                  total_casos, \\\n",
        "                  morte_por_100k_habitantes, \\\n",
        "                  total_morte_por_100k_habitantes, \\\n",
        "                  mortes_por_total_de_casos \\\n",
        "                  FROM tb_covid_sem_acento\")\\\n",
        "                  .createOrReplaceTempView(\"tb_covid_sem_estado\")\n",
        "\n",
        "\n",
        "\n",
        "tb_ibge_covid_merged = spark.sql(\"SELECT * FROM tb_covid_sem_estado \\\n",
        "                                JOIN tb_ibge ON LocalCidade = cidade\")\n",
        "\n",
        "tb_ibge_covid_merged.createOrReplaceTempView(\"tb_data_atualizada\")"
      ],
      "metadata": {
        "id": "fGD9WjD7RG37"
      },
      "execution_count": 57,
      "outputs": []
    },
    {
      "cell_type": "code",
      "source": [
        "window_spec = Window.partitionBy(\"cidade\").orderBy(desc(\"data\"))\n",
        "\n",
        "df_ordenado_data_recente = tb_ibge_covid_merged.withColumn(\"row\",\n",
        "                                                           row_number().\n",
        "                                                           over(window_spec))\n",
        "df_filtrado_data_recentes = df_ordenado_data_recente.filter(col(\"row\") == 1)\\\n",
        "                                                            .drop(\"row\")\n",
        "\n",
        "df_filtrado_PB = df_filtrado_data_recentes.filter(col(\"estado\") == \"PB\")\n",
        "pd_filtrado_PB = df_filtrado_PB.orderBy(desc('mortes')).toPandas()"
      ],
      "metadata": {
        "id": "pqL7ok_j0SQo"
      },
      "execution_count": 58,
      "outputs": []
    },
    {
      "cell_type": "code",
      "source": [
        "df_filtrado_PB.show()"
      ],
      "metadata": {
        "colab": {
          "base_uri": "https://localhost:8080/"
        },
        "id": "3VgXFBkIF2cz",
        "outputId": "bd6302ec-97e0-4386-81ad-37e743da1ca6"
      },
      "execution_count": 59,
      "outputs": [
        {
          "output_type": "stream",
          "name": "stdout",
          "text": [
            "+-------+----------+------+--------------------+-------+------------+------+-----------+-----------+-------------------------+-------------------------------+-------------------------+--------+--------------------+-------+-----------------+------------+--------+---------+--------------------+----------------+-------------+-----+-----------------------+-----------------------+--------+\n",
            "|epi_mes|      data|estado|              cidade| ibgeID|novas_mortes|mortes|novos_casos|total_casos|morte_por_100k_habitantes|total_morte_por_100k_habitantes|mortes_por_total_de_casos|IBGECode|         LocalCidade|LocalUF|      LocalEstado|RegiaoBrasil|Latitude|Longitude|           Gentilico|PopEstimada_2018|PopCenso 2010| IDHM|ReceitasRealizadas_2014|DespesasEmpenhadas_2014|Pib_2014|\n",
            "+-------+----------+------+--------------------+-------+------------+------+-----------+-----------+-------------------------+-------------------------------+-------------------------+--------+--------------------+-------+-----------------+------------+--------+---------+--------------------+----------------+-------------+-----+-----------------------+-----------------------+--------+\n",
            "|    252|2022-12-31|    PB|       ALAGOA GRANDE|2500304|           0|    85|          0|       6276|                  299.464|                      22111.048|                    0.014| 2500304|       ALAGOA GRANDE|     PB|          Para�ba|          NE| -703943|  -356206|   alagoa-grandense |           28623|        28479|0,582|                  43909|                  42509| 7825,72|\n",
            "|    252|2022-12-31|    PB|         ALAGOA NOVA|2500403|           0|    39|          0|       3309|                  185.785|                      15763.148|                    0.012| 2500403|         ALAGOA NOVA|     PB|          Para�ba|          NE| -705377|  -357591|     alagoa-novense |           20589|        19681|0,576|                  37528|                  35383|12519,08|\n",
            "|    252|2022-12-31|    PB|            ALHANDRA|2500601|           0|    49|          0|       3529|                  246.665|                      17764.913|                    0.014| 2500601|            ALHANDRA|     PB|          Para�ba|          NE| -742977|  -349057|        alhandrense |           19391|        18007|0,582|                  67916|                  65129|37433,98|\n",
            "|    252|2022-12-31|    PB|           APARECIDA|2500775|           0|    16|          0|       1911|                  188.635|                      22530.064|                    0.008| 3502507|           APARECIDA|     SP|        S�o Paulo|          SE| -228495|  -452325|       aparecidense |           36129|        35007|0,755|                 111724|                 106401|25654,78|\n",
            "|    252|2022-12-31|    PB|               AREIA|2501104|           0|    36|          0|       2969|                   160.05|                      13199.662|                    0.012| 2501104|               AREIA|     PB|          Para�ba|          NE| -696396|  -356977|           areiense |           22978|        23829|0,594|                  35861|                  32680| 8369,05|\n",
            "|    252|2022-12-31|    PB|            AROEIRAS|2501302|           0|    21|          0|       3054|                  110.057|                       16005.45|                    0.007| 2501302|            AROEIRAS|     PB|          Para�ba|          NE| -754473|  -357066|         aroeirense |           19190|        19082|0,548|                  34617|                  36300|  6826,2|\n",
            "|    252|2022-12-31|    PB| BARRA DE SANTA ROSA|2501609|           0|    16|          0|       1813|                  102.518|                      11616.582|                    0.009| 2501609| BARRA DE SANTA ROSA|     PB|          Para�ba|          NE| -671816|  -360671|      santa rosense |           15268|        14157|0,562|                  28447|                  26948| 7159,81|\n",
            "|    252|2022-12-31|    PB|    BARRA DE SANTANA|2501575|           0|     8|          0|       1281|                   95.946|                      15363.396|                    0.006| 2501575|    BARRA DE SANTANA|     PB|          Para�ba|          NE| -751809|  -359913|      barrasantense |            8249|         8206|0,567|                  16448|                  15198| 7598,18|\n",
            "|    252|2022-12-31|    PB|              BAYEUX|2501807|           0|   273|          0|      13475|                  279.945|                       13817.82|                     0.02| 2501807|              BAYEUX|     PB|          Para�ba|          NE|  -71238|  -349293|          baienense |           96550|        99716|0,649|                 128102|                 134418|11829,33|\n",
            "|    252|2022-12-31|    PB|  BONITO DE SANTA FE|2502409|           0|    14|          0|        976|                  115.454|                       8048.821|                    0.014| 2502409|  BONITO DE SANTA FE|     PB|          Para�ba|          NE| -731341|  -385133|          bonitense |           11797|        10804|0,574|                  21137|                  21352| 6988,32|\n",
            "|    252|2022-12-31|    PB|           BOQUEIRAO|2502508|           0|    53|          0|       2647|                  295.528|                      14759.674|                     0.02| 2502508|           BOQUEIRAO|     PB|          Para�ba|          NE|   -7487|  -361309|      boqueir�oense |           17751|        16888|0,607|                  35697|                  33769| 9511,77|\n",
            "|    252|2022-12-31|    PB|       BREJO DO CRUZ|2502805|           0|    25|          0|       2125|                  174.984|                      14873.661|                    0.012| 2502805|       BREJO DO CRUZ|     PB|          Para�ba|          NE| -634185|  -374943|     brejo-cruzense |           13993|        13123|0,597|                      0|                      0| 7519,52|\n",
            "|    252|2022-12-31|    PB|             CAAPORA|2503001|           0|    41|          0|       3078|                  185.697|                      13940.849|                    0.013| 2503001|             CAAPORA|     PB|          Para�ba|          NE| -751351|  -349055|        caapor�ense |           21698|        20362|0,602|                  60341|                  56962|17383,64|\n",
            "|    252|2022-12-31|    PB|            CABEDELO|2503209|           0|   223|          0|      14721|                  319.608|                      21098.419|                    0.015| 2503209|            CABEDELO|     PB|          Para�ba|          NE| -698731|  -348284|        cabedelense |           66680|        57944|0,748|                 235763|                 166336|36467,11|\n",
            "|    252|2022-12-31|    PB|CACHOEIRA DOS INDIOS|2503308|           0|    25|          0|       1680|                   241.22|                      16209.958|                    0.015| 2503308|CACHOEIRA DOS INDIOS|     PB|          Para�ba|          NE| -691353|   -38676|cachoeirense (dos...|           10182|         9546|0,587|                  16527|                  14998|10100,64|\n",
            "|    252|2022-12-31|    PB|    CACIMBA DE AREIA|2503407|           0|     5|          0|        420|                  134.844|                      11326.861|                    0.012| 2503407|    CACIMBA DE AREIA|     PB|          Para�ba|          NE| -712128|  -371563|cacimbense (de Ar...|            3729|         3557|0,596|                  11163|                  10693| 7599,48|\n",
            "|    252|2022-12-31|    PB|             CAICARA|2503605|           0|    15|          0|       1192|                  208.855|                      16597.048|                    0.013| 4303400|             CAICARA|     RS|Rio Grande do Sul|         SUL| -272791|  -534257|         cai�arense |            4788|         5071|0,699|                  17952|                  15504|16196,28|\n",
            "|    252|2022-12-31|    PB|          CAJAZEIRAS|2503704|           0|   192|          0|      19134|                  306.827|                      30577.218|                     0.01| 2503704|          CAJAZEIRAS|     PB|          Para�ba|          NE| -688004|  -385577|       cajazeirense |           61776|        58446|0,679|                 101393|                  96808|15508,42|\n",
            "|    252|2022-12-31|    PB|             CAMALAU|2503902|           0|     8|          0|       1011|                  132.275|                       16716.27|                    0.008| 2503902|             CAMALAU|     PB|          Para�ba|          NE| -788503|  -368242|        camalauense |            5994|         5749|0,567|                  14456|                  13185| 8685,59|\n",
            "|    252|2022-12-31|    PB|      CAMPINA GRANDE|2504009|           0|  1257|          0|      69035|                  303.748|                      16681.971|                    0.018| 2504009|      CAMPINA GRANDE|     PB|          Para�ba|          NE| -722196|  -358731|         campinense |          407472|       385213| 0,72|                 729993|                 704309|19696,95|\n",
            "+-------+----------+------+--------------------+-------+------------+------+-----------+-----------+-------------------------+-------------------------------+-------------------------+--------+--------------------+-------+-----------------+------------+--------+---------+--------------------+----------------+-------------+-----+-----------------------+-----------------------+--------+\n",
            "only showing top 20 rows\n",
            "\n"
          ]
        }
      ]
    },
    {
      "cell_type": "code",
      "source": [
        "plt.figure(figsize=(10, 50))\n",
        "plot = sns.barplot(x=\"mortes\", y=\"cidade\", data=pd_filtrado_PB)\n",
        "plt.title('Quantidade de morte por cidade')\n",
        "\n",
        "for p in plot.patches:\n",
        "    width = p.get_width()\n",
        "    plt.text(width + 3,\n",
        "             p.get_y() + p.get_height()/2,\n",
        "             int(width),\n",
        "             ha=\"left\", va=\"center\")"
      ],
      "metadata": {
        "id": "EDLnl5HcSHDm"
      },
      "execution_count": null,
      "outputs": []
    },
    {
      "cell_type": "code",
      "source": [
        "cities = [row['cidade'] for row in df_filtrado_PB]\n",
        "percentages = [row['total_casos'] for row in df_filtrado_PB]\n",
        "\n",
        "# Total de pessoas por cidade\n",
        "total_by_city = df_filtrado_PB['cidade'].value_counts()\n",
        "\n",
        "# Total de pessoas infectadas por cidade\n",
        "infected_by_city = df_filtrado_PB[df_filtrado_PB['estado'] == 'total_casos']['cidade'].value_counts()\n",
        "\n",
        "# Calcular a porcentagem de pessoas infectadas por cidade\n",
        "infected_percentage = (infected_by_city / total_by_city) * 100\n",
        "\n",
        "# Plotando o gráfico\n",
        "plt.figure(figsize=(10, 6))\n",
        "sns.barplot(x=infected_percentage.index, y=infected_percentage.values)\n",
        "plt.xticks(rotation=90)  # rotaciona os nomes das cidades para melhor visualização\n",
        "plt.ylabel('Percentage of Infected People (%)')\n",
        "plt.title('Percentage of Infected People by City')\n",
        "plt.tight_layout()\n",
        "plt.show()"
      ],
      "metadata": {
        "colab": {
          "base_uri": "https://localhost:8080/",
          "height": 254
        },
        "id": "oN5sFled_-ly",
        "outputId": "85dead1b-e405-4f4e-bf85-81f5a866b9b8"
      },
      "execution_count": 61,
      "outputs": [
        {
          "output_type": "error",
          "ename": "TypeError",
          "evalue": "ignored",
          "traceback": [
            "\u001b[0;31m---------------------------------------------------------------------------\u001b[0m",
            "\u001b[0;31mTypeError\u001b[0m                                 Traceback (most recent call last)",
            "\u001b[0;32m<ipython-input-61-1fa7ba88c5a3>\u001b[0m in \u001b[0;36m<cell line: 5>\u001b[0;34m()\u001b[0m\n\u001b[1;32m      3\u001b[0m \u001b[0;34m\u001b[0m\u001b[0m\n\u001b[1;32m      4\u001b[0m \u001b[0;31m# Total de pessoas por cidade\u001b[0m\u001b[0;34m\u001b[0m\u001b[0;34m\u001b[0m\u001b[0m\n\u001b[0;32m----> 5\u001b[0;31m \u001b[0mtotal_by_city\u001b[0m \u001b[0;34m=\u001b[0m \u001b[0mdf_filtrado_PB\u001b[0m\u001b[0;34m[\u001b[0m\u001b[0;34m'cidade'\u001b[0m\u001b[0;34m]\u001b[0m\u001b[0;34m.\u001b[0m\u001b[0mvalue_counts\u001b[0m\u001b[0;34m(\u001b[0m\u001b[0;34m)\u001b[0m\u001b[0;34m\u001b[0m\u001b[0;34m\u001b[0m\u001b[0m\n\u001b[0m\u001b[1;32m      6\u001b[0m \u001b[0;34m\u001b[0m\u001b[0m\n\u001b[1;32m      7\u001b[0m \u001b[0;31m# Total de pessoas infectadas por cidade\u001b[0m\u001b[0;34m\u001b[0m\u001b[0;34m\u001b[0m\u001b[0m\n",
            "\u001b[0;31mTypeError\u001b[0m: 'Column' object is not callable"
          ]
        }
      ]
    },
    {
      "cell_type": "code",
      "source": [
        "# .createOrReplaceTempView(\"tb_data_atualizada\")\n",
        "\n",
        "# spark.sql(\"SELECT * FROM tb_data_atualizada WHERE city = 'JOAO PESSOA'\").show()\n",
        "\n",
        "# df = tb_ibge_covid_merged.orderBy(col('date').desc())\n",
        "# registro_recente = df.limit(1)\n",
        "\n",
        "\n",
        "\n",
        "# output_path = \"caminho/para/saida.csv\"\n",
        "# data_transformed.write.csv(output_path, header=True)\n",
        "\n",
        "# # Encerrar a sessão Spark\n",
        "spark.stop()"
      ],
      "metadata": {
        "id": "rSo-GDhfDbRE"
      },
      "execution_count": 49,
      "outputs": []
    }
  ]
}